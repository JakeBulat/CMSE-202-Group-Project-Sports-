{
 "cells": [
  {
   "cell_type": "code",
   "execution_count": 1,
   "id": "157c6272",
   "metadata": {},
   "outputs": [],
   "source": [
    "import pandas as pd\n",
    "import numpy as np"
   ]
  },
  {
   "cell_type": "code",
   "execution_count": 2,
   "id": "a783424c",
   "metadata": {},
   "outputs": [
    {
     "data": {
      "text/html": [
       "<div>\n",
       "<style scoped>\n",
       "    .dataframe tbody tr th:only-of-type {\n",
       "        vertical-align: middle;\n",
       "    }\n",
       "\n",
       "    .dataframe tbody tr th {\n",
       "        vertical-align: top;\n",
       "    }\n",
       "\n",
       "    .dataframe thead th {\n",
       "        text-align: right;\n",
       "    }\n",
       "</style>\n",
       "<table border=\"1\" class=\"dataframe\">\n",
       "  <thead>\n",
       "    <tr style=\"text-align: right;\">\n",
       "      <th></th>\n",
       "      <th>qb</th>\n",
       "      <th>att</th>\n",
       "      <th>cmp</th>\n",
       "      <th>yds</th>\n",
       "      <th>ypa</th>\n",
       "      <th>td</th>\n",
       "      <th>int</th>\n",
       "      <th>lg</th>\n",
       "      <th>sack</th>\n",
       "      <th>loss</th>\n",
       "      <th>rate</th>\n",
       "      <th>game_points</th>\n",
       "      <th>home_away</th>\n",
       "      <th>year</th>\n",
       "    </tr>\n",
       "  </thead>\n",
       "  <tbody>\n",
       "    <tr>\n",
       "      <th>0</th>\n",
       "      <td>Boomer EsiasonB. Esiason</td>\n",
       "      <td>38</td>\n",
       "      <td>25</td>\n",
       "      <td>237.0</td>\n",
       "      <td>6.2</td>\n",
       "      <td>0</td>\n",
       "      <td>0</td>\n",
       "      <td>20</td>\n",
       "      <td>2.0</td>\n",
       "      <td>11.0</td>\n",
       "      <td>82.9</td>\n",
       "      <td>13</td>\n",
       "      <td>away</td>\n",
       "      <td>1996</td>\n",
       "    </tr>\n",
       "    <tr>\n",
       "      <th>1</th>\n",
       "      <td>Jim HarbaughJ. Harbaugh</td>\n",
       "      <td>25</td>\n",
       "      <td>16</td>\n",
       "      <td>196.0</td>\n",
       "      <td>7.8</td>\n",
       "      <td>2</td>\n",
       "      <td>1</td>\n",
       "      <td>35t</td>\n",
       "      <td>0.0</td>\n",
       "      <td>0.0</td>\n",
       "      <td>98.1</td>\n",
       "      <td>20</td>\n",
       "      <td>home</td>\n",
       "      <td>1996</td>\n",
       "    </tr>\n",
       "    <tr>\n",
       "      <th>2</th>\n",
       "      <td>Paul JustinP. Justin</td>\n",
       "      <td>8</td>\n",
       "      <td>5</td>\n",
       "      <td>53.0</td>\n",
       "      <td>6.6</td>\n",
       "      <td>0</td>\n",
       "      <td>0</td>\n",
       "      <td>30</td>\n",
       "      <td>1.0</td>\n",
       "      <td>11.0</td>\n",
       "      <td>81.8</td>\n",
       "      <td>20</td>\n",
       "      <td>home</td>\n",
       "      <td>1996</td>\n",
       "    </tr>\n",
       "    <tr>\n",
       "      <th>3</th>\n",
       "      <td>Jeff GeorgeJ. George</td>\n",
       "      <td>35</td>\n",
       "      <td>16</td>\n",
       "      <td>215.0</td>\n",
       "      <td>6.1</td>\n",
       "      <td>0</td>\n",
       "      <td>0</td>\n",
       "      <td>55</td>\n",
       "      <td>7.0</td>\n",
       "      <td>53.0</td>\n",
       "      <td>65.8</td>\n",
       "      <td>6</td>\n",
       "      <td>away</td>\n",
       "      <td>1996</td>\n",
       "    </tr>\n",
       "    <tr>\n",
       "      <th>4</th>\n",
       "      <td>Kerry CollinsK. Collins</td>\n",
       "      <td>31</td>\n",
       "      <td>17</td>\n",
       "      <td>198.0</td>\n",
       "      <td>6.4</td>\n",
       "      <td>2</td>\n",
       "      <td>0</td>\n",
       "      <td>30</td>\n",
       "      <td>4.0</td>\n",
       "      <td>12.0</td>\n",
       "      <td>95.9</td>\n",
       "      <td>29</td>\n",
       "      <td>home</td>\n",
       "      <td>1996</td>\n",
       "    </tr>\n",
       "    <tr>\n",
       "      <th>...</th>\n",
       "      <td>...</td>\n",
       "      <td>...</td>\n",
       "      <td>...</td>\n",
       "      <td>...</td>\n",
       "      <td>...</td>\n",
       "      <td>...</td>\n",
       "      <td>...</td>\n",
       "      <td>...</td>\n",
       "      <td>...</td>\n",
       "      <td>...</td>\n",
       "      <td>...</td>\n",
       "      <td>...</td>\n",
       "      <td>...</td>\n",
       "      <td>...</td>\n",
       "    </tr>\n",
       "    <tr>\n",
       "      <th>13183</th>\n",
       "      <td>Alex SmithA. Smith</td>\n",
       "      <td>28</td>\n",
       "      <td>21</td>\n",
       "      <td>264.0</td>\n",
       "      <td>9.4</td>\n",
       "      <td>2</td>\n",
       "      <td>1</td>\n",
       "      <td>42</td>\n",
       "      <td>1.0</td>\n",
       "      <td>2.0</td>\n",
       "      <td>112.8</td>\n",
       "      <td>37</td>\n",
       "      <td>away</td>\n",
       "      <td>2016</td>\n",
       "    </tr>\n",
       "    <tr>\n",
       "      <th>13184</th>\n",
       "      <td>Philip RiversP. Rivers</td>\n",
       "      <td>38</td>\n",
       "      <td>22</td>\n",
       "      <td>269.0</td>\n",
       "      <td>7.1</td>\n",
       "      <td>2</td>\n",
       "      <td>2</td>\n",
       "      <td>23</td>\n",
       "      <td>0.0</td>\n",
       "      <td>0.0</td>\n",
       "      <td>75.4</td>\n",
       "      <td>27</td>\n",
       "      <td>home</td>\n",
       "      <td>2016</td>\n",
       "    </tr>\n",
       "    <tr>\n",
       "      <th>13185</th>\n",
       "      <td>Russell WilsonR. Wilson</td>\n",
       "      <td>32</td>\n",
       "      <td>19</td>\n",
       "      <td>258.0</td>\n",
       "      <td>8.1</td>\n",
       "      <td>1</td>\n",
       "      <td>0</td>\n",
       "      <td>42</td>\n",
       "      <td>1.0</td>\n",
       "      <td>6.0</td>\n",
       "      <td>95.6</td>\n",
       "      <td>25</td>\n",
       "      <td>away</td>\n",
       "      <td>2016</td>\n",
       "    </tr>\n",
       "    <tr>\n",
       "      <th>13186</th>\n",
       "      <td>Trevone BoykinT. Boykin</td>\n",
       "      <td>6</td>\n",
       "      <td>4</td>\n",
       "      <td>42.0</td>\n",
       "      <td>7.0</td>\n",
       "      <td>0</td>\n",
       "      <td>0</td>\n",
       "      <td>19</td>\n",
       "      <td>1.0</td>\n",
       "      <td>5.0</td>\n",
       "      <td>86.8</td>\n",
       "      <td>25</td>\n",
       "      <td>away</td>\n",
       "      <td>2016</td>\n",
       "    </tr>\n",
       "    <tr>\n",
       "      <th>13187</th>\n",
       "      <td>Colin KaepernickC. Kaepernick</td>\n",
       "      <td>22</td>\n",
       "      <td>17</td>\n",
       "      <td>215.0</td>\n",
       "      <td>9.8</td>\n",
       "      <td>1</td>\n",
       "      <td>0</td>\n",
       "      <td>29</td>\n",
       "      <td>5.0</td>\n",
       "      <td>24.0</td>\n",
       "      <td>122.3</td>\n",
       "      <td>23</td>\n",
       "      <td>home</td>\n",
       "      <td>2016</td>\n",
       "    </tr>\n",
       "  </tbody>\n",
       "</table>\n",
       "<p>13188 rows × 14 columns</p>\n",
       "</div>"
      ],
      "text/plain": [
       "                                  qb  att  cmp    yds  ypa  td  int   lg  \\\n",
       "0           Boomer EsiasonB. Esiason   38   25  237.0  6.2   0    0   20   \n",
       "1            Jim HarbaughJ. Harbaugh   25   16  196.0  7.8   2    1  35t   \n",
       "2               Paul JustinP. Justin    8    5   53.0  6.6   0    0   30   \n",
       "3               Jeff GeorgeJ. George   35   16  215.0  6.1   0    0   55   \n",
       "4            Kerry CollinsK. Collins   31   17  198.0  6.4   2    0   30   \n",
       "...                              ...  ...  ...    ...  ...  ..  ...  ...   \n",
       "13183             Alex SmithA. Smith   28   21  264.0  9.4   2    1   42   \n",
       "13184         Philip RiversP. Rivers   38   22  269.0  7.1   2    2   23   \n",
       "13185        Russell WilsonR. Wilson   32   19  258.0  8.1   1    0   42   \n",
       "13186        Trevone BoykinT. Boykin    6    4   42.0  7.0   0    0   19   \n",
       "13187  Colin KaepernickC. Kaepernick   22   17  215.0  9.8   1    0   29   \n",
       "\n",
       "       sack  loss   rate  game_points home_away  year  \n",
       "0       2.0  11.0   82.9           13      away  1996  \n",
       "1       0.0   0.0   98.1           20      home  1996  \n",
       "2       1.0  11.0   81.8           20      home  1996  \n",
       "3       7.0  53.0   65.8            6      away  1996  \n",
       "4       4.0  12.0   95.9           29      home  1996  \n",
       "...     ...   ...    ...          ...       ...   ...  \n",
       "13183   1.0   2.0  112.8           37      away  2016  \n",
       "13184   0.0   0.0   75.4           27      home  2016  \n",
       "13185   1.0   6.0   95.6           25      away  2016  \n",
       "13186   1.0   5.0   86.8           25      away  2016  \n",
       "13187   5.0  24.0  122.3           23      home  2016  \n",
       "\n",
       "[13188 rows x 14 columns]"
      ]
     },
     "execution_count": 2,
     "metadata": {},
     "output_type": "execute_result"
    }
   ],
   "source": [
    "QB_stats = pd.read_csv(\"QBStats_all.csv\")\n",
    "QB_stats"
   ]
  },
  {
   "cell_type": "code",
   "execution_count": 3,
   "id": "482ce2c3",
   "metadata": {},
   "outputs": [],
   "source": [
    "year1996 = QB_stats[QB_stats['year'] == 1996]\n",
    "year1997 = QB_stats[QB_stats['year'] == 1997]\n",
    "year1998 = QB_stats[QB_stats['year'] == 1998]\n",
    "year1999 = QB_stats[QB_stats['year'] == 1999]\n",
    "year2000 = QB_stats[QB_stats['year'] == 2000]\n",
    "year2001 = QB_stats[QB_stats['year'] == 2001]\n",
    "year2002 = QB_stats[QB_stats['year'] == 2002]\n",
    "year2003 = QB_stats[QB_stats['year'] == 2003]\n",
    "year2004 = QB_stats[QB_stats['year'] == 2004]\n",
    "year2005 = QB_stats[QB_stats['year'] == 2005]\n",
    "year2006 = QB_stats[QB_stats['year'] == 2006]\n",
    "year2007 = QB_stats[QB_stats['year'] == 2007]\n",
    "year2008 = QB_stats[QB_stats['year'] == 2008]\n",
    "year2009 = QB_stats[QB_stats['year'] == 2009]\n",
    "year2010 = QB_stats[QB_stats['year'] == 2010]\n",
    "year2011 = QB_stats[QB_stats['year'] == 2011]\n",
    "year2012 = QB_stats[QB_stats['year'] == 2012]\n",
    "year2013 = QB_stats[QB_stats['year'] == 2013]\n",
    "year2014 = QB_stats[QB_stats['year'] == 2014]\n",
    "year2015 = QB_stats[QB_stats['year'] == 2015]\n",
    "year2016 = QB_stats[QB_stats['year'] == 2016]"
   ]
  },
  {
   "cell_type": "code",
   "execution_count": 4,
   "id": "6513c9de",
   "metadata": {},
   "outputs": [],
   "source": [
    "avg_qb = {}"
   ]
  },
  {
   "cell_type": "markdown",
   "id": "a94805dd",
   "metadata": {},
   "source": [
    "# 1996"
   ]
  },
  {
   "cell_type": "code",
   "execution_count": 5,
   "id": "4f4c8ffd",
   "metadata": {},
   "outputs": [],
   "source": [
    "avg_qb[1996] = {'att': np.mean(year1996['att']), 'cmp': np.mean(year1996['cmp']), \n",
    "                'yds': np.mean(year1996['yds']), 'ypa': np.mean(year1996['ypa']), \n",
    "                'td': np.mean(year1996['td']), 'int': np.mean(year1996['int']),\n",
    "                'sack': np.mean(year1996['sack']), 'rate': np.mean(year1996['rate'])}"
   ]
  },
  {
   "cell_type": "markdown",
   "id": "2db96278",
   "metadata": {},
   "source": [
    "# 1997"
   ]
  },
  {
   "cell_type": "code",
   "execution_count": 6,
   "id": "010b3c9b",
   "metadata": {},
   "outputs": [],
   "source": [
    "avg_qb[1997] = {'att': np.mean(year1997['att']), 'cmp': np.mean(year1997['cmp']), \n",
    "                'yds': np.mean(year1997['yds']), 'ypa': np.mean(year1997['ypa']), \n",
    "                'td': np.mean(year1997['td']), 'int': np.mean(year1997['int']),\n",
    "                'sack': np.mean(year1997['sack']), 'rate': np.mean(year1997['rate'])}"
   ]
  },
  {
   "cell_type": "markdown",
   "id": "becff433",
   "metadata": {},
   "source": [
    "# 1998"
   ]
  },
  {
   "cell_type": "code",
   "execution_count": 7,
   "id": "dbe932e9",
   "metadata": {},
   "outputs": [],
   "source": [
    "avg_qb[1998] = {'att': np.mean(year1998['att']), 'cmp': np.mean(year1998['cmp']), \n",
    "                'yds': np.mean(year1998['yds']), 'ypa': np.mean(year1998['ypa']), \n",
    "                'td': np.mean(year1998['td']), 'int': np.mean(year1998['int']),\n",
    "                'sack': np.mean(year1998['sack']), 'rate': np.mean(year1998['rate'])}"
   ]
  },
  {
   "cell_type": "markdown",
   "id": "a2aa1152",
   "metadata": {},
   "source": [
    "# 1999"
   ]
  },
  {
   "cell_type": "code",
   "execution_count": 8,
   "id": "a1efbbf0",
   "metadata": {},
   "outputs": [],
   "source": [
    "avg_qb[1999] = {'att': np.mean(year1999['att']), 'cmp': np.mean(year1999['cmp']), \n",
    "                'yds': np.mean(year1999['yds']), 'ypa': np.mean(year1999['ypa']), \n",
    "                'td': np.mean(year1999['td']), 'int': np.mean(year1999['int']),\n",
    "                'sack': np.mean(year1999['sack']), 'rate': np.mean(year1999['rate'])}"
   ]
  },
  {
   "cell_type": "markdown",
   "id": "26755632",
   "metadata": {},
   "source": [
    "# 2000"
   ]
  },
  {
   "cell_type": "code",
   "execution_count": 9,
   "id": "3d016a08",
   "metadata": {},
   "outputs": [],
   "source": [
    "avg_qb[2000] = {'att': np.mean(year2000['att']), 'cmp': np.mean(year2000['cmp']), \n",
    "                'yds': np.mean(year2000['yds']), 'ypa': np.mean(year2000['ypa']), \n",
    "                'td': np.mean(year2000['td']), 'int': np.mean(year2000['int']),\n",
    "                'sack': np.mean(year2000['sack']), 'rate': np.mean(year2000['rate'])}"
   ]
  },
  {
   "cell_type": "markdown",
   "id": "b5ea9e3a",
   "metadata": {},
   "source": [
    "# 2001"
   ]
  },
  {
   "cell_type": "code",
   "execution_count": 10,
   "id": "8f3ef1de",
   "metadata": {},
   "outputs": [],
   "source": [
    "avg_qb[2001] = {'att': np.mean(year2001['att']), 'cmp': np.mean(year2001['cmp']), \n",
    "                'yds': np.mean(year2001['yds']), 'ypa': np.mean(year2001['ypa']), \n",
    "                'td': np.mean(year2001['td']), 'int': np.mean(year2001['int']),\n",
    "                'sack': np.mean(year2001['sack']), 'rate': np.mean(year2001['rate'])}"
   ]
  },
  {
   "cell_type": "markdown",
   "id": "91c06f67",
   "metadata": {},
   "source": [
    "# 2002"
   ]
  },
  {
   "cell_type": "code",
   "execution_count": 11,
   "id": "9ef419d6",
   "metadata": {},
   "outputs": [],
   "source": [
    "avg_qb[2002] = {'att': np.mean(year2002['att']), 'cmp': np.mean(year2002['cmp']), \n",
    "                'yds': np.mean(year2002['yds']), 'ypa': np.mean(year2002['ypa']), \n",
    "                'td': np.mean(year2002['td']), 'int': np.mean(year2002['int']),\n",
    "                'sack': np.mean(year2002['sack']), 'rate': np.mean(year2002['rate'])}"
   ]
  },
  {
   "cell_type": "markdown",
   "id": "c324d5b6",
   "metadata": {},
   "source": [
    "# 2003"
   ]
  },
  {
   "cell_type": "code",
   "execution_count": 12,
   "id": "b3d15a27",
   "metadata": {},
   "outputs": [],
   "source": [
    "avg_qb[2003] = {'att': np.mean(year2003['att']), 'cmp': np.mean(year2003['cmp']), \n",
    "                'yds': np.mean(year2003['yds']), 'ypa': np.mean(year2003['ypa']), \n",
    "                'td': np.mean(year2003['td']), 'int': np.mean(year2003['int']),\n",
    "                'sack': np.mean(year2003['sack']), 'rate': np.mean(year2003['rate'])}"
   ]
  },
  {
   "cell_type": "markdown",
   "id": "ceb70ba2",
   "metadata": {},
   "source": [
    "# 2004"
   ]
  },
  {
   "cell_type": "code",
   "execution_count": 13,
   "id": "d4105611",
   "metadata": {},
   "outputs": [],
   "source": [
    "avg_qb[2004] = {'att': np.mean(year2004['att']), 'cmp': np.mean(year2004['cmp']), \n",
    "                'yds': np.mean(year2004['yds']), 'ypa': np.mean(year2004['ypa']), \n",
    "                'td': np.mean(year2004['td']), 'int': np.mean(year2004['int']),\n",
    "                'sack': np.mean(year2004['sack']), 'rate': np.mean(year2004['rate'])}"
   ]
  },
  {
   "cell_type": "markdown",
   "id": "97b13b1f",
   "metadata": {},
   "source": [
    "# 2005"
   ]
  },
  {
   "cell_type": "code",
   "execution_count": 14,
   "id": "7edd7f5f",
   "metadata": {},
   "outputs": [],
   "source": [
    "avg_qb[2005] = {'att': np.mean(year2005['att']), 'cmp': np.mean(year2005['cmp']), \n",
    "                'yds': np.mean(year2005['yds']), 'ypa': np.mean(year2005['ypa']), \n",
    "                'td': np.mean(year2005['td']), 'int': np.mean(year2005['int']),\n",
    "                'sack': np.mean(year2005['sack']), 'rate': np.mean(year2005['rate'])}"
   ]
  },
  {
   "cell_type": "markdown",
   "id": "1d39284b",
   "metadata": {},
   "source": [
    "# 2006"
   ]
  },
  {
   "cell_type": "code",
   "execution_count": 15,
   "id": "bda04202",
   "metadata": {},
   "outputs": [],
   "source": [
    "avg_qb[2006] = {'att': np.mean(year2006['att']), 'cmp': np.mean(year2006['cmp']), \n",
    "                'yds': np.mean(year2006['yds']), 'ypa': np.mean(year2006['ypa']), \n",
    "                'td': np.mean(year2006['td']), 'int': np.mean(year2006['int']),\n",
    "                'sack': np.mean(year2006['sack']), 'rate': np.mean(year2006['rate'])}"
   ]
  },
  {
   "cell_type": "markdown",
   "id": "783fab26",
   "metadata": {},
   "source": [
    "# 2007"
   ]
  },
  {
   "cell_type": "code",
   "execution_count": 16,
   "id": "46d487bc",
   "metadata": {},
   "outputs": [],
   "source": [
    "avg_qb[2007] = {'att': np.mean(year2007['att']), 'cmp': np.mean(year2007['cmp']), \n",
    "                'yds': np.mean(year2007['yds']), 'ypa': np.mean(year2007['ypa']), \n",
    "                'td': np.mean(year2007['td']), 'int': np.mean(year2007['int']),\n",
    "                'sack': np.mean(year2007['sack']), 'rate': np.mean(year2007['rate'])}"
   ]
  },
  {
   "cell_type": "markdown",
   "id": "aa697198",
   "metadata": {},
   "source": [
    "# 2008"
   ]
  },
  {
   "cell_type": "code",
   "execution_count": 17,
   "id": "170b0b00",
   "metadata": {},
   "outputs": [],
   "source": [
    "avg_qb[2008] = {'att': np.mean(year2008['att']), 'cmp': np.mean(year2008['cmp']), \n",
    "                'yds': np.mean(year2008['yds']), 'ypa': np.mean(year2008['ypa']), \n",
    "                'td': np.mean(year2008['td']), 'int': np.mean(year2008['int']),\n",
    "                'sack': np.mean(year2008['sack']), 'rate': np.mean(year2008['rate'])}"
   ]
  },
  {
   "cell_type": "markdown",
   "id": "9d11a9a2",
   "metadata": {},
   "source": [
    "# 2009"
   ]
  },
  {
   "cell_type": "code",
   "execution_count": 18,
   "id": "d481590a",
   "metadata": {},
   "outputs": [],
   "source": [
    "avg_qb[2009] = {'att': np.mean(year2009['att']), 'cmp': np.mean(year2009['cmp']), \n",
    "                'yds': np.mean(year2009['yds']), 'ypa': np.mean(year2009['ypa']), \n",
    "                'td': np.mean(year2009['td']), 'int': np.mean(year2009['int']),\n",
    "                'sack': np.mean(year2009['sack']), 'rate': np.mean(year2009['rate'])}"
   ]
  },
  {
   "cell_type": "markdown",
   "id": "dbec59ae",
   "metadata": {},
   "source": [
    "# 2010"
   ]
  },
  {
   "cell_type": "code",
   "execution_count": 19,
   "id": "32a70204",
   "metadata": {},
   "outputs": [],
   "source": [
    "avg_qb[2010] = {'att': np.mean(year2010['att']), 'cmp': np.mean(year2010['cmp']), \n",
    "                'yds': np.mean(year2010['yds']), 'ypa': np.mean(year2010['ypa']), \n",
    "                'td': np.mean(year2010['td']), 'int': np.mean(year2010['int']),\n",
    "                'sack': np.mean(year2010['sack']), 'rate': np.mean(year2010['rate'])}"
   ]
  },
  {
   "cell_type": "markdown",
   "id": "c4ac9eab",
   "metadata": {},
   "source": [
    "# 2011"
   ]
  },
  {
   "cell_type": "code",
   "execution_count": 20,
   "id": "2bc6f669",
   "metadata": {},
   "outputs": [],
   "source": [
    "avg_qb[2011] = {'att': np.mean(year2011['att']), 'cmp': np.mean(year2011['cmp']), \n",
    "                'yds': np.mean(year2011['yds']), 'ypa': np.mean(year2011['ypa']), \n",
    "                'td': np.mean(year2011['td']), 'int': np.mean(year2011['int']),\n",
    "                'sack': np.mean(year2011['sack']), 'rate': np.mean(year2011['rate'])}"
   ]
  },
  {
   "cell_type": "markdown",
   "id": "d2f0e3ec",
   "metadata": {},
   "source": [
    "# 2012"
   ]
  },
  {
   "cell_type": "code",
   "execution_count": 21,
   "id": "f81ef46a",
   "metadata": {},
   "outputs": [],
   "source": [
    "avg_qb[2012] = {'att': np.mean(year2012['att']), 'cmp': np.mean(year2012['cmp']), \n",
    "                'yds': np.mean(year2012['yds']), 'ypa': np.mean(year2012['ypa']), \n",
    "                'td': np.mean(year2012['td']), 'int': np.mean(year2012['int']),\n",
    "                'sack': np.mean(year2012['sack']), 'rate': np.mean(year2012['rate'])}"
   ]
  },
  {
   "cell_type": "markdown",
   "id": "367128af",
   "metadata": {},
   "source": [
    "# 2013"
   ]
  },
  {
   "cell_type": "code",
   "execution_count": 22,
   "id": "223778ac",
   "metadata": {},
   "outputs": [],
   "source": [
    "avg_qb[2013] = {'att': np.mean(year2013['att']), 'cmp': np.mean(year2013['cmp']), \n",
    "                'yds': np.mean(year2013['yds']), 'ypa': np.mean(year2013['ypa']), \n",
    "                'td': np.mean(year2013['td']), 'int': np.mean(year2013['int']),\n",
    "                'sack': np.mean(year2013['sack']), 'rate': np.mean(year2013['rate'])}"
   ]
  },
  {
   "cell_type": "markdown",
   "id": "fb2a532f",
   "metadata": {},
   "source": [
    "# 2014"
   ]
  },
  {
   "cell_type": "code",
   "execution_count": 23,
   "id": "fc6a6cf4",
   "metadata": {},
   "outputs": [],
   "source": [
    "avg_qb[2014] = {'att': np.mean(year2014['att']), 'cmp': np.mean(year2014['cmp']), \n",
    "                'yds': np.mean(year2014['yds']), 'ypa': np.mean(year2014['ypa']), \n",
    "                'td': np.mean(year2014['td']), 'int': np.mean(year2014['int']),\n",
    "                'sack': np.mean(year2014['sack']), 'rate': np.mean(year2014['rate'])}"
   ]
  },
  {
   "cell_type": "markdown",
   "id": "7c8a63e0",
   "metadata": {},
   "source": [
    "# 2015"
   ]
  },
  {
   "cell_type": "code",
   "execution_count": 24,
   "id": "4444f2d4",
   "metadata": {},
   "outputs": [],
   "source": [
    "avg_qb[2015] = {'att': np.mean(year2015['att']), 'cmp': np.mean(year2015['cmp']), \n",
    "                'yds': np.mean(year2015['yds']), 'ypa': np.mean(year2015['ypa']), \n",
    "                'td': np.mean(year2015['td']), 'int': np.mean(year2015['int']),\n",
    "                'sack': np.mean(year2015['sack']), 'rate': np.mean(year2015['rate'])}"
   ]
  },
  {
   "cell_type": "markdown",
   "id": "ddda395d",
   "metadata": {},
   "source": [
    "# 2016"
   ]
  },
  {
   "cell_type": "code",
   "execution_count": 25,
   "id": "b3c52752",
   "metadata": {},
   "outputs": [],
   "source": [
    "avg_qb[2016] = {'att': np.mean(year2016['att']), 'cmp': np.mean(year2016['cmp']), \n",
    "                'yds': np.mean(year2016['yds']), 'ypa': np.mean(year2016['ypa']), \n",
    "                'td': np.mean(year2016['td']), 'int': np.mean(year2016['int']),\n",
    "                'sack': np.mean(year2016['sack']), 'rate': np.mean(year2016['rate'])}"
   ]
  },
  {
   "cell_type": "code",
   "execution_count": null,
   "id": "63646ac2",
   "metadata": {},
   "outputs": [],
   "source": []
  }
 ],
 "metadata": {
  "kernelspec": {
   "display_name": "Python 3",
   "language": "python",
   "name": "python3"
  },
  "language_info": {
   "codemirror_mode": {
    "name": "ipython",
    "version": 3
   },
   "file_extension": ".py",
   "mimetype": "text/x-python",
   "name": "python",
   "nbconvert_exporter": "python",
   "pygments_lexer": "ipython3",
   "version": "3.8.8"
  }
 },
 "nbformat": 4,
 "nbformat_minor": 5
}
